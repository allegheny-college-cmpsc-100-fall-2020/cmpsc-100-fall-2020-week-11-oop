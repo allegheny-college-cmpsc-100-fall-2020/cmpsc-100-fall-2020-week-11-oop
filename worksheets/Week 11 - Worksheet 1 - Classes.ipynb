{
 "cells": [
  {
   "cell_type": "markdown",
   "metadata": {},
   "source": [
    "# Week 11, Worksheet 1: Using classes\n",
    "\n",
    "<div class=\"alert alert-block alert-info\">\n",
    "    This worksheet implements to-do markers where work needs to be completed. In some cases, this means that you'll need to copy a line or two and make meaningful changes.\n",
    "</div>\n",
    "\n",
    "## Going to `class`\n",
    "\n",
    "<div class=\"alert alert-block alert-warning\">\n",
    "    You'll see a file named <b>Cat.py</b> in the <b>worksheets</b> directory. For this worksheet to work, you'll need to make youre changes <a href = \"Cat.py\">in that file</a>.\n",
    "</div>\n",
    "\n",
    "Creating `class`es in a single file is fun but, in reality, Python relies on creating these objects in _separate files_. This probably seems scary and confusing (and Halloween is long passed).\n",
    "\n",
    "Acutally, you have the knowledge you need to make the link between this notebook and our `module`, located in `Cat.py`. Your secret power? `import`:\n",
    "\n",
    "```python\n",
    "from Cat import Cat\n",
    "```\n",
    "\n",
    "Now, this looks a bit strange. Why do we need to `import` `Cat` twice? What's up with this `from` keyword? We need to remember the following order:\n",
    "\n",
    "1. We use the name of the file where the `class` is located (`Cat.py`)\n",
    "1. Next, we use the name of the `class` we'd like to `import`\n",
    "\n",
    "Following these rules: `import Cat from Cat`.\n",
    "\n",
    "### 1. In the space below, `import` the `Cat` class from the `Cat.py` file (see above)"
   ]
  },
  {
   "cell_type": "code",
   "execution_count": null,
   "metadata": {},
   "outputs": [],
   "source": [
    "from Cat import Cat"
   ]
  },
  {
   "cell_type": "markdown",
   "metadata": {},
   "source": [
    "After this line, we have access to everything in the `Cat` class. From what we know right now, this means that we can create as many cats as we want to.\n",
    "\n",
    "(Who needs anythis else -- amirite?)\n",
    "\n",
    "In this exercise, though, we're going to learn a bit more about what we can do with our own custom `object`s.\n",
    "\n",
    "### 2. Add a function named `is_friends_with` to `Cat.py`\n",
    "\n",
    "This function should:\n",
    "\n",
    "* Accept `2` _parameters_: `self` and another called `cat`\n",
    "  * As we'll see, `cat` is actually _another `Cat` object_!\n",
    "* If the two cats are tabby cats (i.e. if `is_tabby` is `True` for both), they're friends; else, they're not\n",
    "* The result of this function should be a string which:\n",
    "  * If the cats are friends: `Ulysses and CAT NAME are friends`\n",
    "  * If the cats are not friends: `Ulysses and CAT NAME are not friends`\n",
    "  * Here's a sample: `Ulysses and Munkustrap are friends.`\n",
    "\n",
    "**This work should be completed in [the Cat.py file](Cat.py).**\n",
    "\n",
    "### 3. (This is for a Jupyter-specific reason) From the `Cat.py` file, import the `Cat` class."
   ]
  },
  {
   "cell_type": "code",
   "execution_count": null,
   "metadata": {},
   "outputs": [],
   "source": [
    "from Cat import Cat"
   ]
  },
  {
   "cell_type": "markdown",
   "metadata": {},
   "source": [
    "### 4. Test your function to find out if Ulysses is friends with the following list of cats\n",
    "\n",
    "This will require you to use a `for` loop to _iterate_ over the `dictionary` of our cat friends. As a bonus, using a `for` loop means that you'll only need to create a `Cat` object once in the loop!\n",
    "\n",
    "(This is a grader-specific thing: use the `for` statement `for cat in cats`.)"
   ]
  },
  {
   "cell_type": "code",
   "execution_count": 3,
   "metadata": {},
   "outputs": [
    {
     "name": "stdout",
     "output_type": "stream",
     "text": [
      "Ulysses is friends with Munkustrap.\n",
      "Ulysses is friends with Rum Tum Tiger.\n",
      "Ulysses is not friends with Grizabella.\n",
      "Ulysses is friends with Bombarluna.\n",
      "Ulysses is not friends with Bustopher Jones.\n"
     ]
    }
   ],
   "source": [
    "cats = {\n",
    "    \"Munkustrap\": {\n",
    "        \"fur\": \"black\",\n",
    "        \"tabby\": True\n",
    "    },\n",
    "    \"Rum Tum Tiger\": {\n",
    "        \"fur\": \"brown\",\n",
    "        \"tabby\": True\n",
    "    },\n",
    "    \"Grizabella\": {\n",
    "        \"fur\": \"black\",\n",
    "        \"tabby\": False\n",
    "    },\n",
    "    \"Bombarluna\": {\n",
    "        \"fur\": \"orange\",\n",
    "        \"tabby\": True\n",
    "    },\n",
    "    \"Bustopher Jones\": {\n",
    "        \"fur\": \"black and white\",\n",
    "        \"tabby\": False\n",
    "    }\n",
    "}\n",
    "\n",
    "ulysses = Cat(\n",
    "    name = \"Ulysses\",\n",
    "    fur_color = \"brown\",\n",
    "    is_tabby = True\n",
    ")\n",
    "\n",
    "for cat in cats:\n",
    "    a_cat = Cat(\n",
    "        name = cat,\n",
    "        fur_color = cats[cat][\"fur\"],\n",
    "        is_tabby = cats[cat][\"tabby\"]\n",
    "    )\n",
    "    \n",
    "    print(ulysses.is_friends_with(a_cat))"
   ]
  },
  {
   "cell_type": "markdown",
   "metadata": {},
   "source": [
    "### 5. Which cats aren't friends with Ulysses?"
   ]
  },
  {
   "cell_type": "markdown",
   "metadata": {},
   "source": [
    "Grizabella\n",
    "\n",
    "Bustopher Jones"
   ]
  },
  {
   "cell_type": "code",
   "execution_count": null,
   "metadata": {},
   "outputs": [],
   "source": []
  }
 ],
 "metadata": {
  "kernelspec": {
   "display_name": "Python 3",
   "language": "python",
   "name": "python3"
  },
  "language_info": {
   "codemirror_mode": {
    "name": "ipython",
    "version": 3
   },
   "file_extension": ".py",
   "mimetype": "text/x-python",
   "name": "python",
   "nbconvert_exporter": "python",
   "pygments_lexer": "ipython3",
   "version": "3.8.5"
  }
 },
 "nbformat": 4,
 "nbformat_minor": 4
}
