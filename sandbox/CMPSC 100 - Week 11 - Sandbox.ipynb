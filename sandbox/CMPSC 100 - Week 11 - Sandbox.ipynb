{
 "cells": [
  {
   "cell_type": "markdown",
   "metadata": {
    "deletable": false,
    "editable": false
   },
   "source": [
    "# CMPSC 100: `Week 11` Sandbox\n",
    "\n",
    "---\n",
    "\n",
    "In the computer science world, a \"sandbox\" is almost exactly what it is in the real world: a place to, effectively, \"play.\" \n",
    "\n",
    "## Usage\n",
    "\n",
    "First and foremost, this space is for *you*. \n",
    "\n",
    "Use this notebook to try out code presented in class or do self-guided exploration. Your instructor may reference this notebook and ask that you write some code in it to follow along with in-class exercises or live programming.\n",
    "\n",
    "I also encourage you to use this as a space to take notes as you participate in discussions or practice coding concepts on your own.\n",
    "\n",
    "### Reminders\n",
    "\n",
    "The following key combinations and shortcuts will speed your work in this notebook.\n",
    "\n",
    "#### With cursor in cell\n",
    "\n",
    "| Key(s) | Outcome |\n",
    "|:-|:-|\n",
    "| `Enter` | Adds a new line in the current cell |\n",
    "| `Shift` + `Enter` | Runs the current cell and moves to the first cell below |\n",
    "| `Ctrl` + `Enter` | Runs the current cell; cursor remains in cell |\n",
    "| `Alt` + `Enter` | Runs current cell and inserts new cell below ||\n",
    "\n",
    "#### With cell selected\n",
    "\n",
    "| Key(s) | Outcome |\n",
    "|:-|:-|\n",
    "| `A` | Add cell above current cell |\n",
    "| `B` | Add cell below current cell |\n",
    "| `D` | Delete current cell |\n",
    "| `Shift` + `M` | Merge current cell with below |\n",
    "| `M` | Changes current cell to Markdown format|\n",
    "| `Y` | Changes current cell to code format |\n",
    "\n",
    "\n",
    "## Helpful readings\n",
    "\n",
    "The readings below are meant to serve as references for you as you explore practical use of our course's platforms. As always, however, feel free to reach out to your instructors or post questions in our course [Slack](cmpsc-100-00-fa-2020.slack.com).\n",
    "\n",
    "### Using Jupyter notebooks\n",
    "\n",
    "For questions about using a Jupyter Notebook, our colleagues at Bryn Mawr created a [Jupyter Notebook User's Manual](https://jupyter.brynmawr.edu/services/public/dblank/Jupyter%20Notebook%20Users%20Manual.ipynb) which answers basic and advanced questions about the platform.\n",
    "\n",
    "### Markdown\n",
    "\n",
    "I strongly recommend reading the [Mastering Markdown](https://guides.github.com/features/mastering-markdown/) guide to serve as a Markdown reference."
   ]
  },
  {
   "cell_type": "markdown",
   "metadata": {},
   "source": [
    "## Sandbox"
   ]
  },
  {
   "cell_type": "code",
   "execution_count": 7,
   "metadata": {},
   "outputs": [
    {
     "ename": "SyntaxError",
     "evalue": "cannot assign to set display (CMPSC_100_Week_11_Sandbox.py, line 11)",
     "output_type": "error",
     "traceback": [
      "Traceback \u001b[0;36m(most recent call last)\u001b[0m:\n",
      "  File \u001b[1;32m\"/opt/jupyterhub/lib/python3.8/site-packages/IPython/core/interactiveshell.py\"\u001b[0m, line \u001b[1;32m3417\u001b[0m, in \u001b[1;35mrun_code\u001b[0m\n    exec(code_obj, self.user_global_ns, self.user_ns)\n",
      "\u001b[0;36m  File \u001b[0;32m\"<ipython-input-7-1f53ad4b1016>\"\u001b[0;36m, line \u001b[0;32m1\u001b[0;36m, in \u001b[0;35m<module>\u001b[0;36m\u001b[0m\n\u001b[0;31m    from CMPSC_100_Week_11_Sandbox import Fraction\u001b[0m\n",
      "\u001b[0;36m  File \u001b[0;32m\"/home/paddypage/cmpsc-100-fall-2020-week-11-oop/sandbox/CMPSC_100_Week_11_Sandbox.py\"\u001b[0;36m, line \u001b[0;32m11\u001b[0m\n\u001b[0;31m    new_numer = {self.numer} = fraction.numer\u001b[0m\n\u001b[0m                ^\u001b[0m\n\u001b[0;31mSyntaxError\u001b[0m\u001b[0;31m:\u001b[0m cannot assign to set display\n"
     ]
    }
   ],
   "source": [
    "from CMPSC_100_Week_11_Sandbox import Fraction\n",
    "\n",
    "fraction_one = Fraction(3,5)\n",
    "print(fraction_one)"
   ]
  },
  {
   "cell_type": "code",
   "execution_count": null,
   "metadata": {},
   "outputs": [],
   "source": []
  }
 ],
 "metadata": {
  "celltoolbar": "Raw Cell Format",
  "kernelspec": {
   "display_name": "Python 3",
   "language": "python",
   "name": "python3"
  },
  "language_info": {
   "codemirror_mode": {
    "name": "ipython",
    "version": 3
   },
   "file_extension": ".py",
   "mimetype": "text/x-python",
   "name": "python",
   "nbconvert_exporter": "python",
   "pygments_lexer": "ipython3",
   "version": "3.8.5"
  }
 },
 "nbformat": 4,
 "nbformat_minor": 4
}
